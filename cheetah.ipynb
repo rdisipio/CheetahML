#!/usr/bin/env python3
# coding: utf-8

# # CheetahML
# Hello! CheetahML is a program based on TensorFlow 2.0 to demonstrate how to classify images using convolutional neural networks.

# In[2]:


a = 10


# In[3]:


print(a)

